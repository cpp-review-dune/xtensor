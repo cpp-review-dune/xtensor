{
 "cells": [
  {
   "cell_type": "code",
   "execution_count": 15,
   "id": "61fad4c2-760e-49e2-96ab-226c460ded97",
   "metadata": {},
   "outputs": [],
   "source": [
    "#include <xtensor/xarray.hpp>\n",
    "#include <xtensor/xview.hpp>\n",
    "#include <xtensor/xrandom.hpp>\n",
    "#include <xtensor/xbroadcast.hpp>\n",
    "\n",
    "#include <algorithm>"
   ]
  },
  {
   "cell_type": "code",
   "execution_count": 19,
   "id": "00be8746-02b2-481b-9238-303c02cdebd1",
   "metadata": {},
   "outputs": [],
   "source": [
    "xt::xarray<double> ar = xt::linspace<double>(0.0, 10.0, 12);"
   ]
  },
  {
   "cell_type": "code",
   "execution_count": 20,
   "id": "eed2e769-4ce1-41cc-bbc8-8175396d08be",
   "metadata": {},
   "outputs": [],
   "source": [
    "ar.reshape({4, 3});"
   ]
  },
  {
   "cell_type": "code",
   "execution_count": 21,
   "id": "478bac0f-aac8-49da-9cb0-dee3ab0d894a",
   "metadata": {},
   "outputs": [
    {
     "data": {
      "text/plain": [
       "{ 0.0000000, 0.90909091, 1.8181818, 2.7272727, 3.6363636, 4.5454545, 5.4545455, 6.3636364, 7.2727273, 8.1818182, 9.0909091, 10.000000 }"
      ]
     },
     "execution_count": 21,
     "metadata": {},
     "output_type": "execute_result"
    }
   ],
   "source": [
    "ar"
   ]
  },
  {
   "cell_type": "code",
   "execution_count": 4,
   "id": "bdb1ce87-51ec-4d46-a92f-e205bb64e698",
   "metadata": {},
   "outputs": [],
   "source": [
    "xt::xarray<double> arr1\n",
    "  {{1.0, 2.0, 3.0},\n",
    "   {2.0, 5.0, 7.0},\n",
    "   {2.0, 5.0, 7.0}};"
   ]
  },
  {
   "cell_type": "code",
   "execution_count": 5,
   "id": "ab1ce03f-4ccf-4159-aeb0-369f541d7635",
   "metadata": {},
   "outputs": [],
   "source": [
    "xt::xarray<double> arr2\n",
    "  {5.0, 6.0, 7.0};"
   ]
  },
  {
   "cell_type": "code",
   "execution_count": 6,
   "id": "9d8942f8-5eef-4460-b472-af8a590a21f4",
   "metadata": {},
   "outputs": [
    {
     "data": {
      "text/plain": [
       "{ 7.0000000, 11.000000, 14.000000 }"
      ]
     },
     "execution_count": 6,
     "metadata": {},
     "output_type": "execute_result"
    }
   ],
   "source": [
    "xt::view(arr1, 1) + arr2"
   ]
  },
  {
   "cell_type": "code",
   "execution_count": 7,
   "id": "264912e0-65a8-461a-b74e-b33c8f7b3a21",
   "metadata": {},
   "outputs": [],
   "source": [
    "xt::xarray<int> arr\n",
    "  {1, 2, 3, 4, 5, 6, 7, 8, 9};"
   ]
  },
  {
   "cell_type": "code",
   "execution_count": 8,
   "id": "2651c982-397e-4ac8-b4f7-94ffedd5d53c",
   "metadata": {},
   "outputs": [],
   "source": [
    "arr.reshape({3, 3});"
   ]
  },
  {
   "cell_type": "code",
   "execution_count": 9,
   "id": "7b6ef745-1d25-4e21-bb4a-092f97bedc31",
   "metadata": {},
   "outputs": [
    {
     "data": {
      "text/plain": [
       "{ 1, 2, 3, 4, 5, 6, 7, 8, 9 }"
      ]
     },
     "execution_count": 9,
     "metadata": {},
     "output_type": "execute_result"
    }
   ],
   "source": [
    "arr"
   ]
  },
  {
   "cell_type": "code",
   "execution_count": 10,
   "id": "2bdd4537-9171-4627-b4b4-0dde72da3814",
   "metadata": {},
   "outputs": [],
   "source": [
    "xt::xarray<double> arr3\n",
    "  {1.0, 2.0, 3.0};"
   ]
  },
  {
   "cell_type": "code",
   "execution_count": 11,
   "id": "25fb59b3-ac4c-4cce-905c-4d308e6de194",
   "metadata": {},
   "outputs": [],
   "source": [
    "xt::xarray<unsigned int> arr4\n",
    "  {4, 5, 6, 7};"
   ]
  },
  {
   "cell_type": "code",
   "execution_count": 12,
   "id": "11ef7407-a5d5-48ad-a0ac-f6fa5b86cfcc",
   "metadata": {},
   "outputs": [],
   "source": [
    "arr4.reshape({4, 1});"
   ]
  },
  {
   "cell_type": "code",
   "execution_count": 13,
   "id": "5e94c872-c55f-42e2-a583-f72923e9020b",
   "metadata": {},
   "outputs": [
    {
     "data": {
      "text/plain": [
       "{ 1.0000000, 16.000000, 81.000000, 1.0000000, 32.000000, 243.00000, 1.0000000, 64.000000, 729.00000, 1.0000000, 128.00000, 2187.0000 }"
      ]
     },
     "execution_count": 13,
     "metadata": {},
     "output_type": "execute_result"
    }
   ],
   "source": [
    "xt::pow(arr3, arr4)"
   ]
  },
  {
   "cell_type": "code",
   "execution_count": 16,
   "id": "f9fe56b1-f1c6-4e6b-b9e4-aa23f83d634a",
   "metadata": {},
   "outputs": [],
   "source": [
    "xt::xarray<double> arr5 = xt::random::randn<double>({4, 3});"
   ]
  },
  {
   "cell_type": "code",
   "execution_count": 17,
   "id": "7f920ff7-6d2f-4472-a61c-05b7a9b07856",
   "metadata": {},
   "outputs": [
    {
     "data": {
      "text/plain": [
       "{ 0.13452966, -0.14638178, 0.46065018, -1.8713843, 0.16371168, -0.21425339, 0.29859526, -0.82794418, 0.010215434, 1.0554664, -0.54684100, 1.1745677 }"
      ]
     },
     "execution_count": 17,
     "metadata": {},
     "output_type": "execute_result"
    }
   ],
   "source": [
    "arr5"
   ]
  },
  {
   "cell_type": "code",
   "execution_count": 18,
   "id": "fef74c50-c8b8-402c-af54-51e9082505e6",
   "metadata": {},
   "outputs": [
    {
     "data": {
      "text/plain": [
       "{ true, false, true, false, false, false, false, false, false, true, true, false, true, false, false, false, false, false, true, false, true, true, true, false, true, false, true, true, false, true, true, false, true, false, true, false, false, false, true, true, true, true, true, false, false, false, false, false, false, true, false, false, false, true, false, true, true, true, false, false, true, false, true, true, true, true, false, true, false, true, true, true, true, false, true, false, true, false, false, false, false, true, true, false, true, false, false, true, false, false, true, false, true, false, false, false, true, false, false, true, false, true, false, false, false, false, false, true, false, true, false, false, false, false, false, false, false, false, false, true, true, true, false, false, true, false, false, true, false, false, false, true, false, true, true, false, true, false, false, false, false, false, false, true, false, false, false, true, false, false, false, true, true, false, true, true, false, true, true, true, false, false, false, false, false, true, false, true, false, true, false, true, false, true, false, false, false, false, false, true, false, false, false, false, true, false, true, false, false, false, false, true, false, false, false, true, false, false, false, false, true, false, false, false, true, false, false, false, false, false, true, false, true, false, false, false, true, false, true, false, false, false, false, true, false, true, false, true, true, false, true, false, false, false, false, false, true, true, false, false, true, false, true, true, false, false, false, true, false, true, false, false, true, false, true, false, false, true, false, true, false, true, true, true, false, false, false, true, false, true, true, false, true, true, true, false, false, true, false, false, false, false, true, true, true, true, false, false, false, true, false, false, true, false, false, true, false, true, false, true, true, false, false, false, false, true, false, false, true, false, false, false, true, true, false, false, true, false, false, false, true, true, false, true, true, false, false, false, false, false, true, false, false, false, false, false, true, false, true, false, false, false, false, false, false, true, false, false, true, false, false, false, true, false, false, false, true, false, false, true, true, true, true, false, true, true, true, true, false, false, true, true, false, false, false, false, false, false, false, true, true, true, false, true, false, false, true, true, false, false, false, true, false, false, false, false, false, true, true, true, false, false, false, false, true, true, true, false, true, false, false, false, false, true, true, true, false, true, false, true, false, true, true, false, true, false, true, true, false, false, true, false, false, false, true, true, true, false, false, false, false, false, true, true, false, false, false, false, false, true, false, false, false, false, false, false, false, false, false, true, false, false, true, false, true, true, true, false, false, true, true, false, true, true, false, false, false, true, true, false, false, false, false, false, true, false, false, true, false, false, false, true, true, true, true, false, false, false, true, false, false, false, false, false, false, false, false, false, false, false, false, true, true, true, true, true, false, false, false, true, false, true, false, false, false, false, true, false, false, false, false, true, false, true, false, false, false, true, false, false, false, true, false, false, false, true, false, false, false, false, false, true, true, false, false, false, true, true, true, false, true, true, false, false, false, false, false, true, false, false, true, true, true, true, true, false, false, true, false, true, false, true, true, true, true, false, false, true, false, true, false, true, false, false, true, false, true, true, false, false, false, false, false, false, false, true, false, true, true, true, false, true, true, false, true, false, true, false, true, false, false, false, true, false, true, false, false, true, false, false, true, false, false, false, true, true, false, false, false, false, false, false, false, true, true, false, true, true, true, true, true, true, false, true, true, false, false, false, false, true, false, false, false, true, true, false, false, false, false, false, false, true, true, true, true, false, false, false, true, true, true, true, true, false, false, true, true, true, false, false, true, true, true, true, true, false, false, true, true, true, false, true, false, false, false, false, true, true, false, false, false, false, false, true, false, false, false, false, false, true, false, false, false, false, false, false, false, false, false, false, false, false, true, true, true, false, false, true, false, true, false, true, false, false, true, false, true, true, false, true, true, true, false, false, true, true, true, true, false, true, false, true, false, true, true, false, false, true, true, false, true, false, true, false, false, false, false, false, false, false, false, true, false, false, true, true, false, true, false, true, true, false, true, false, true, true, true, false, false, true, false, false, false, false, false, false, false, false, false, false, true, false, false, false, false, true, false, false, true, true, true, true, false, true, false, true, true, true, false, true, false, false, false, true, false, false, true, false, false, false, true, true, true, true, false, true, true, true, true, true, true, true, true, false, true, true, true, true, true, true, false, false, true, true, false, true, true, true, true, false, true, true, true, true, false, true, false, false, true, false, false, true, true, false, true, false, false, false, false, true, false, false, false, true, true, true, false, false, true, true, true, false, false, true, true, false, false, false, false, false, true, false, false, false, true, false, false, false, true, false, true, true, false, false, false, false, true, false, false, true, false, true, false, false, false, true, true, true, true, true, true, true, false, true, false, false, true, false, true, false, false, false, true, true, true, false, false, false, true, false, false, true, false, true, false, true, true, true, true, false, false, false, false, false, true, false, true, true, true, false, false, true, false, false, false, false, true, false, false, false, false, true, false, false, true, true, true, false, false, true, false, false, true, true, true, false, false, true, true, false, true, false, false, false, false, false, false, true, false, true, false, true, true, true, false, true, false, true, false, true, false, false, true, false, false, true, false, false, false, false, false, false, false, false, false, false, false, false, false, true, false, true, true, true, true, false, false, false, true, true, true, false, false, true, false, false, true, false, false, false, true, true, true, false, false, false, false, true, true, true, false, true, false, true, true, false, true, true, true, false, true, true, true, false, false, false, true, false, false, false, false, false, true, false, true, false, false, true, false, false, true, true, false, false, false, false, false, false, true, true, false, false, false, true, true, true, false, false, true, false, true, true, true, false, true, false, true, false, false, true, true, false, true, false, false, true, true, true, true, true, false, true, false, true, true, true, true, true, false, false, true, false, false, false, true, false, true, false, true, true, true, true, false, true, false, true, false, false, true, false, true, true, true, false, false, false, true, false, false, true, true, false, false, false, false, false, false, false, false, false }"
      ]
     },
     "execution_count": 18,
     "metadata": {},
     "output_type": "execute_result"
    }
   ],
   "source": [
    "xt::random::randn<double>({5, 3, 8, 10}) > 0.2"
   ]
  },
  {
   "cell_type": "code",
   "execution_count": 22,
   "id": "dfce0df9-9226-45d9-b11a-65d172a2d552",
   "metadata": {},
   "outputs": [],
   "source": [
    "xt::xarray<double> fones = xt::ones<float>({2, 2});"
   ]
  },
  {
   "cell_type": "code",
   "execution_count": 23,
   "id": "338abbfd-962e-4857-9fd5-9e89986494e8",
   "metadata": {},
   "outputs": [
    {
     "data": {
      "text/plain": [
       "{ 1.0000000, 1.0000000, 1.0000000, 1.0000000 }"
      ]
     },
     "execution_count": 23,
     "metadata": {},
     "output_type": "execute_result"
    }
   ],
   "source": [
    "fones"
   ]
  },
  {
   "cell_type": "code",
   "execution_count": null,
   "id": "b04a37df-d7fd-4cba-b940-ce754712bb94",
   "metadata": {},
   "outputs": [],
   "source": [
    "// xt::arange<int>(1569325055)"
   ]
  },
  {
   "cell_type": "code",
   "execution_count": null,
   "id": "7978ec0d-e70a-480d-abc0-94d01701c8e4",
   "metadata": {},
   "outputs": [],
   "source": [
    "xt::broadcast(xt::linspace<double>(0.0, 10.0, 4),\n",
    "              std::vector<std::size_t>({3, 4}))"
   ]
  }
 ],
 "metadata": {
  "kernelspec": {
   "display_name": "C++17 (xeus)",
   "language": "C++17",
   "name": "xcpp17"
  },
  "language_info": {
   "codemirror_mode": "text/x-c++src",
   "file_extension": ".cpp",
   "mimetype": "text/x-c++src",
   "name": "c++",
   "version": "17"
  }
 },
 "nbformat": 4,
 "nbformat_minor": 5
}
