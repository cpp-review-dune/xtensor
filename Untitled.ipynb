{
 "cells": [
  {
   "cell_type": "code",
   "execution_count": 1,
   "id": "61fad4c2-760e-49e2-96ab-226c460ded97",
   "metadata": {},
   "outputs": [],
   "source": [
    "#include <xtensor/xarray.hpp>\n",
    "#include <xtensor/xview.hpp>\n",
    "#include <xtensor/xrandom.hpp>\n",
    "#include <xtensor/xbroadcast.hpp>"
   ]
  },
  {
   "cell_type": "code",
   "execution_count": 2,
   "id": "193fa9c5-bcff-483e-a2be-c9f922e89157",
   "metadata": {},
   "outputs": [],
   "source": [
    "#include <algorithm>"
   ]
  },
  {
   "cell_type": "code",
   "execution_count": 3,
   "id": "00be8746-02b2-481b-9238-303c02cdebd1",
   "metadata": {},
   "outputs": [],
   "source": [
    "xt::xarray<double> ar = xt::linspace<double>(0.0, 10.0, 12);"
   ]
  },
  {
   "cell_type": "code",
   "execution_count": 4,
   "id": "eed2e769-4ce1-41cc-bbc8-8175396d08be",
   "metadata": {},
   "outputs": [],
   "source": [
    "ar.reshape({4, 3});"
   ]
  },
  {
   "cell_type": "code",
   "execution_count": 5,
   "id": "478bac0f-aac8-49da-9cb0-dee3ab0d894a",
   "metadata": {},
   "outputs": [
    {
     "data": {
      "text/plain": [
       "{ 0.0000000, 0.90909091, 1.8181818, 2.7272727, 3.6363636, 4.5454545, 5.4545455, 6.3636364, 7.2727273, 8.1818182, 9.0909091, 10.000000 }"
      ]
     },
     "execution_count": 5,
     "metadata": {},
     "output_type": "execute_result"
    }
   ],
   "source": [
    "ar"
   ]
  },
  {
   "cell_type": "code",
   "execution_count": 6,
   "id": "bdb1ce87-51ec-4d46-a92f-e205bb64e698",
   "metadata": {},
   "outputs": [],
   "source": [
    "xt::xarray<double> arr1\n",
    "  {{1.0, 2.0, 3.0},\n",
    "   {2.0, 5.0, 7.0},\n",
    "   {2.0, 5.0, 7.0}};"
   ]
  },
  {
   "cell_type": "code",
   "execution_count": 7,
   "id": "ab1ce03f-4ccf-4159-aeb0-369f541d7635",
   "metadata": {},
   "outputs": [],
   "source": [
    "xt::xarray<double> arr2\n",
    "  {5.0, 6.0, 7.0};"
   ]
  },
  {
   "cell_type": "code",
   "execution_count": 8,
   "id": "9d8942f8-5eef-4460-b472-af8a590a21f4",
   "metadata": {},
   "outputs": [
    {
     "data": {
      "text/plain": [
       "{ 7.0000000, 11.000000, 14.000000 }"
      ]
     },
     "execution_count": 8,
     "metadata": {},
     "output_type": "execute_result"
    }
   ],
   "source": [
    "xt::view(arr1, 1) + arr2"
   ]
  },
  {
   "cell_type": "code",
   "execution_count": 9,
   "id": "264912e0-65a8-461a-b74e-b33c8f7b3a21",
   "metadata": {},
   "outputs": [],
   "source": [
    "xt::xarray<int> arr\n",
    "  {1, 2, 3, 4, 5, 6, 7, 8, 9};"
   ]
  },
  {
   "cell_type": "code",
   "execution_count": 10,
   "id": "2651c982-397e-4ac8-b4f7-94ffedd5d53c",
   "metadata": {},
   "outputs": [],
   "source": [
    "arr.reshape({3, 3});"
   ]
  },
  {
   "cell_type": "code",
   "execution_count": 11,
   "id": "7b6ef745-1d25-4e21-bb4a-092f97bedc31",
   "metadata": {},
   "outputs": [
    {
     "data": {
      "text/plain": [
       "{ 1, 2, 3, 4, 5, 6, 7, 8, 9 }"
      ]
     },
     "execution_count": 11,
     "metadata": {},
     "output_type": "execute_result"
    }
   ],
   "source": [
    "arr"
   ]
  },
  {
   "cell_type": "code",
   "execution_count": 12,
   "id": "2bdd4537-9171-4627-b4b4-0dde72da3814",
   "metadata": {},
   "outputs": [],
   "source": [
    "xt::xarray<double> arr3\n",
    "  {1.0, 2.0, 3.0};"
   ]
  },
  {
   "cell_type": "code",
   "execution_count": 13,
   "id": "25fb59b3-ac4c-4cce-905c-4d308e6de194",
   "metadata": {},
   "outputs": [],
   "source": [
    "xt::xarray<unsigned int> arr4\n",
    "  {4, 5, 6, 7};"
   ]
  },
  {
   "cell_type": "code",
   "execution_count": 14,
   "id": "11ef7407-a5d5-48ad-a0ac-f6fa5b86cfcc",
   "metadata": {},
   "outputs": [],
   "source": [
    "arr4.reshape({4, 1});"
   ]
  },
  {
   "cell_type": "code",
   "execution_count": 15,
   "id": "5e94c872-c55f-42e2-a583-f72923e9020b",
   "metadata": {},
   "outputs": [
    {
     "data": {
      "text/plain": [
       "{ 1.0000000, 16.000000, 81.000000, 1.0000000, 32.000000, 243.00000, 1.0000000, 64.000000, 729.00000, 1.0000000, 128.00000, 2187.0000 }"
      ]
     },
     "execution_count": 15,
     "metadata": {},
     "output_type": "execute_result"
    }
   ],
   "source": [
    "xt::pow(arr3, arr4)"
   ]
  },
  {
   "cell_type": "code",
   "execution_count": 16,
   "id": "f9fe56b1-f1c6-4e6b-b9e4-aa23f83d634a",
   "metadata": {},
   "outputs": [],
   "source": [
    "xt::xarray<double> arr5 = xt::random::randn<double>({4, 3});"
   ]
  },
  {
   "cell_type": "code",
   "execution_count": 17,
   "id": "7f920ff7-6d2f-4472-a61c-05b7a9b07856",
   "metadata": {},
   "outputs": [
    {
     "data": {
      "text/plain": [
       "{ 0.13452966, -0.14638178, 0.46065018, -1.8713843, 0.16371168, -0.21425339, 0.29859526, -0.82794418, 0.010215434, 1.0554664, -0.54684100, 1.1745677 }"
      ]
     },
     "execution_count": 17,
     "metadata": {},
     "output_type": "execute_result"
    }
   ],
   "source": [
    "arr5"
   ]
  },
  {
   "cell_type": "code",
   "execution_count": 18,
   "id": "fef74c50-c8b8-402c-af54-51e9082505e6",
   "metadata": {},
   "outputs": [
    {
     "data": {
      "text/plain": [
       "{ true, false, true, false, false, false, false, false, false, true, true, false, true, false, false, false, false, false, true, false, true, true, true, false, true, false, true, true, false, true, true, false, true, false, true, false, false, false, true, true, true, true, true, false, false, false, false, false, false, true, false, false, false, true, false, true, true, true, false, false, true, false, true, true, true, true, false, true, false, true, true, true, true, false, true, false, true, false, false, false, false, true, true, false, true, false, false, true, false, false, true, false, true, false, false, false, true, false, false, true, false, true, false, false, false, false, false, true, false, true, false, false, false, false, false, false, false, false, false, true, true, true, false, false, true, false, false, true, false, false, false, true, false, true, true, false, true, false, false, false, false, false, false, true, false, false, false, true, false, false, false, true, true, false, true, true, false, true, true, true, false, false, false, false, false, true, false, true, false, true, false, true, false, true, false, false, false, false, false, true, false, false, false, false, true, false, true, false, false, false, false, true, false, false, false, true, false, false, false, false, true, false, false, false, true, false, false, false, false, false, true, false, true, false, false, false, true, false, true, false, false, false, false, true, false, true, false, true, true, false, true, false, false, false, false, false, true, true, false, false, true, false, true, true, false, false, false, true, false, true, false, false, true, false, true, false, false, true, false, true, false, true, true, true, false, false, false, true, false, true, true, false, true, true, true, false, false, true, false, false, false, false, true, true, true, true, false, false, false, true, false, false, true, false, false, true, false, true, false, true, true, false, false, false, false, true, false, false, true, false, false, false, true, true, false, false, true, false, false, false, true, true, false, true, true, false, false, false, false, false, true, false, false, false, false, false, true, false, true, false, false, false, false, false, false, true, false, false, true, false, false, false, true, false, false, false, true, false, false, true, true, true, true, false, true, true, true, true, false, false, true, true, false, false, false, false, false, false, false, true, true, true, false, true, false, false, true, true, false, false, false, true, false, false, false, false, false, true, true, true, false, false, false, false, true, true, true, false, true, false, false, false, false, true, true, true, false, true, false, true, false, true, true, false, true, false, true, true, false, false, true, false, false, false, true, true, true, false, false, false, false, false, true, true, false, false, false, false, false, true, false, false, false, false, false, false, false, false, false, true, false, false, true, false, true, true, true, false, false, true, true, false, true, true, false, false, false, true, true, false, false, false, false, false, true, false, false, true, false, false, false, true, true, true, true, false, false, false, true, false, false, false, false, false, false, false, false, false, false, false, false, true, true, true, true, true, false, false, false, true, false, true, false, false, false, false, true, false, false, false, false, true, false, true, false, false, false, true, false, false, false, true, false, false, false, true, false, false, false, false, false, true, true, false, false, false, true, true, true, false, true, true, false, false, false, false, false, true, false, false, true, true, true, true, true, false, false, true, false, true, false, true, true, true, true, false, false, true, false, true, false, true, false, false, true, false, true, true, false, false, false, false, false, false, false, true, false, true, true, true, false, true, true, false, true, false, true, false, true, false, false, false, true, false, true, false, false, true, false, false, true, false, false, false, true, true, false, false, false, false, false, false, false, true, true, false, true, true, true, true, true, true, false, true, true, false, false, false, false, true, false, false, false, true, true, false, false, false, false, false, false, true, true, true, true, false, false, false, true, true, true, true, true, false, false, true, true, true, false, false, true, true, true, true, true, false, false, true, true, true, false, true, false, false, false, false, true, true, false, false, false, false, false, true, false, false, false, false, false, true, false, false, false, false, false, false, false, false, false, false, false, false, true, true, true, false, false, true, false, true, false, true, false, false, true, false, true, true, false, true, true, true, false, false, true, true, true, true, false, true, false, true, false, true, true, false, false, true, true, false, true, false, true, false, false, false, false, false, false, false, false, true, false, false, true, true, false, true, false, true, true, false, true, false, true, true, true, false, false, true, false, false, false, false, false, false, false, false, false, false, true, false, false, false, false, true, false, false, true, true, true, true, false, true, false, true, true, true, false, true, false, false, false, true, false, false, true, false, false, false, true, true, true, true, false, true, true, true, true, true, true, true, true, false, true, true, true, true, true, true, false, false, true, true, false, true, true, true, true, false, true, true, true, true, false, true, false, false, true, false, false, true, true, false, true, false, false, false, false, true, false, false, false, true, true, true, false, false, true, true, true, false, false, true, true, false, false, false, false, false, true, false, false, false, true, false, false, false, true, false, true, true, false, false, false, false, true, false, false, true, false, true, false, false, false, true, true, true, true, true, true, true, false, true, false, false, true, false, true, false, false, false, true, true, true, false, false, false, true, false, false, true, false, true, false, true, true, true, true, false, false, false, false, false, true, false, true, true, true, false, false, true, false, false, false, false, true, false, false, false, false, true, false, false, true, true, true, false, false, true, false, false, true, true, true, false, false, true, true, false, true, false, false, false, false, false, false, true, false, true, false, true, true, true, false, true, false, true, false, true, false, false, true, false, false, true, false, false, false, false, false, false, false, false, false, false, false, false, false, true, false, true, true, true, true, false, false, false, true, true, true, false, false, true, false, false, true, false, false, false, true, true, true, false, false, false, false, true, true, true, false, true, false, true, true, false, true, true, true, false, true, true, true, false, false, false, true, false, false, false, false, false, true, false, true, false, false, true, false, false, true, true, false, false, false, false, false, false, true, true, false, false, false, true, true, true, false, false, true, false, true, true, true, false, true, false, true, false, false, true, true, false, true, false, false, true, true, true, true, true, false, true, false, true, true, true, true, true, false, false, true, false, false, false, true, false, true, false, true, true, true, true, false, true, false, true, false, false, true, false, true, true, true, false, false, false, true, false, false, true, true, false, false, false, false, false, false, false, false, false }"
      ]
     },
     "execution_count": 18,
     "metadata": {},
     "output_type": "execute_result"
    }
   ],
   "source": [
    "xt::random::randn<double>({5, 3, 8, 10}) > 0.2"
   ]
  },
  {
   "cell_type": "code",
   "execution_count": 19,
   "id": "dfce0df9-9226-45d9-b11a-65d172a2d552",
   "metadata": {},
   "outputs": [],
   "source": [
    "xt::xarray<double> fones = xt::ones<float>({2, 2});"
   ]
  },
  {
   "cell_type": "code",
   "execution_count": 20,
   "id": "338abbfd-962e-4857-9fd5-9e89986494e8",
   "metadata": {},
   "outputs": [
    {
     "data": {
      "text/plain": [
       "{ 1.0000000, 1.0000000, 1.0000000, 1.0000000 }"
      ]
     },
     "execution_count": 20,
     "metadata": {},
     "output_type": "execute_result"
    }
   ],
   "source": [
    "fones"
   ]
  },
  {
   "cell_type": "code",
   "execution_count": 21,
   "id": "b04a37df-d7fd-4cba-b940-ce754712bb94",
   "metadata": {},
   "outputs": [],
   "source": [
    "// xt::arange<int>(1569325055)"
   ]
  },
  {
   "cell_type": "code",
   "execution_count": 22,
   "id": "7978ec0d-e70a-480d-abc0-94d01701c8e4",
   "metadata": {},
   "outputs": [
    {
     "data": {
      "text/plain": [
       "{ 0.0000000, 3.3333333, 6.6666667, 10.000000, 0.0000000, 3.3333333, 6.6666667, 10.000000, 0.0000000, 3.3333333, 6.6666667, 10.000000 }"
      ]
     },
     "execution_count": 22,
     "metadata": {},
     "output_type": "execute_result"
    }
   ],
   "source": [
    "xt::broadcast(xt::linspace<double>(0.0, 10.0, 4),\n",
    "              std::vector<std::size_t>({3, 4}))"
   ]
  },
  {
   "cell_type": "code",
   "execution_count": 23,
   "id": "b41804fb-d4b8-4865-bb76-178bcabc1c81",
   "metadata": {},
   "outputs": [],
   "source": [
    "xt::xarray<double> frand = xt::random::randn<double>({2, 2});"
   ]
  },
  {
   "cell_type": "code",
   "execution_count": 24,
   "id": "33df6019-22b8-44f6-a78b-3561594e1ddd",
   "metadata": {},
   "outputs": [
    {
     "name": "stdout",
     "output_type": "stream",
     "text": [
      "4.49065"
     ]
    }
   ],
   "source": [
    "// begin() and end() provide and iterator pair iterating over the xexpression in a row-major fashion\n",
    "std::cout << std::accumulate(frand.begin(), frand.end(), 0.0);"
   ]
  },
  {
   "cell_type": "code",
   "execution_count": 25,
   "id": "ebf32dee-7d1b-4efd-a02a-3229a7786015",
   "metadata": {},
   "outputs": [
    {
     "data": {
      "text/plain": [
       "{ 1.1994671, 1.6501699, 0.90389168, 0.73711634 }"
      ]
     },
     "execution_count": 25,
     "metadata": {},
     "output_type": "execute_result"
    }
   ],
   "source": [
    "frand"
   ]
  },
  {
   "cell_type": "code",
   "execution_count": 26,
   "id": "9d0cb730-9dd2-4541-bd89-6393cd6b8004",
   "metadata": {},
   "outputs": [],
   "source": [
    "// begin(shape) and end(shape) provide and iterator pair iterating\n",
    "// over the xexpression broadcasted to the prescrived shape in a row-major fashion\n",
    "std::vector<std::size_t> shape = {3, 2, 2};"
   ]
  },
  {
   "cell_type": "code",
   "execution_count": 27,
   "id": "671c4b0d-0af5-4777-bd23-02060b732014",
   "metadata": {},
   "outputs": [
    {
     "name": "stdout",
     "output_type": "stream",
     "text": [
      "13.4719"
     ]
    }
   ],
   "source": [
    "std::cout << std::accumulate(frand.begin(shape), frand.end(shape), 0.0);"
   ]
  },
  {
   "cell_type": "code",
   "execution_count": 28,
   "id": "add1c22d-9fe0-4184-97f3-68a5b91f70ce",
   "metadata": {},
   "outputs": [],
   "source": [
    "#include <xtensor-blas/xlinalg.hpp>"
   ]
  },
  {
   "cell_type": "code",
   "execution_count": 29,
   "id": "ff2c5a99-7685-4827-b0ac-99a6c7325d4b",
   "metadata": {},
   "outputs": [],
   "source": [
    "// #include <xtensor-blas/xlapack.hpp>\n",
    "// #include <xtensor-blas/xblas.hpp>\n",
    "#pragma cling load(\"libblas\")\n",
    "#pragma cling load(\"liblapack\")"
   ]
  },
  {
   "cell_type": "code",
   "execution_count": 30,
   "id": "4a8303c5-2649-4b75-9f2d-535765a5c526",
   "metadata": {},
   "outputs": [],
   "source": [
    "xt::xtensor<double, 2> m = {{1.5, 0.5}, {0.7, 1.0}};"
   ]
  },
  {
   "cell_type": "code",
   "execution_count": 31,
   "id": "0423d859-0a24-4746-b3fe-ae9474f8c17c",
   "metadata": {},
   "outputs": [
    {
     "name": "stdout",
     "output_type": "stream",
     "text": [
      "Matrix rank: \n",
      "2"
     ]
    }
   ],
   "source": [
    "std::cout << \"Matrix rank: \" << std::endl << xt::linalg::matrix_rank(m);"
   ]
  },
  {
   "cell_type": "code",
   "execution_count": 32,
   "id": "0ae44084-57dd-40b1-a8e5-f24038f7232b",
   "metadata": {},
   "outputs": [
    {
     "name": "stdout",
     "output_type": "stream",
     "text": [
      "Matrix inverse: \n",
      "{{ 0.869565, -0.434783},\n",
      " {-0.608696,  1.304348}}"
     ]
    }
   ],
   "source": [
    "std::cout << \"Matrix inverse: \" << std::endl << xt::linalg::inv(m);"
   ]
  },
  {
   "cell_type": "code",
   "execution_count": 33,
   "id": "acb453ee-6d7f-4818-bcfb-fa13edf76264",
   "metadata": {},
   "outputs": [
    {
     "name": "stdout",
     "output_type": "stream",
     "text": [
      "Eigen values: \n",
      "{ 1.892262+0.i,  0.607738+0.i}"
     ]
    }
   ],
   "source": [
    "std::cout << \"Eigen values: \" << std::endl << xt::linalg::eigvals(m);"
   ]
  },
  {
   "cell_type": "code",
   "execution_count": 34,
   "id": "72f0c90e-f135-4ff3-8f79-903f71e8b89f",
   "metadata": {},
   "outputs": [],
   "source": [
    "xt::xarray<double> arg1 = xt::arange<double>(9);\n",
    "xt::xarray<double> arg2 = xt::arange<double>(18);"
   ]
  },
  {
   "cell_type": "code",
   "execution_count": 35,
   "id": "4b3d5d95-1920-4c44-90ae-6278f0099651",
   "metadata": {},
   "outputs": [],
   "source": [
    "arg1.reshape({3, 3});\n",
    "arg2.reshape({2, 3, 3});"
   ]
  },
  {
   "cell_type": "code",
   "execution_count": 36,
   "id": "5e2f132c-510c-43dc-9219-d809651d146f",
   "metadata": {},
   "outputs": [],
   "source": [
    "// https://stackoverflow.com/questions/19507841/undefined-reference-to-cblas-ddot-when-using-cblas-library\n",
    "// std::cout << xt::linalg::dot(arg1, arg2) << std::endl;"
   ]
  }
 ],
 "metadata": {
  "kernelspec": {
   "display_name": "C++14 (xeus)",
   "language": "C++14",
   "name": "xcpp14"
  },
  "language_info": {
   "codemirror_mode": "text/x-c++src",
   "file_extension": ".cpp",
   "mimetype": "text/x-c++src",
   "name": "c++",
   "version": "14"
  }
 },
 "nbformat": 4,
 "nbformat_minor": 5
}
